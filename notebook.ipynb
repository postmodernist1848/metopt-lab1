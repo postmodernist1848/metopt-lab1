{
 "cells": [
  {
   "cell_type": "code",
   "execution_count": null,
   "metadata": {},
   "outputs": [],
   "source": [
    "%matplotlib inline"
   ]
  },
  {
   "cell_type": "code",
   "execution_count": null,
   "metadata": {},
   "outputs": [],
   "source": [
    "from algorithm import *\n",
    "from funcs import *\n",
    "import numpy as np"
   ]
  },
  {
   "cell_type": "code",
   "execution_count": null,
   "metadata": {},
   "outputs": [],
   "source": [
    "# q1, q2, f4\n",
    "# 3 LRS (2 типа h, разные гиперпараметры), Dichotomy, Armijo * 2 (x_0)\n",
    "\n",
    "func = BiFuncStatsDecorator(fopp2)\n",
    "x_0 = np.array([6, 7])\n",
    "PLOT_SIZE=7"
   ]
  },
  {
   "cell_type": "code",
   "execution_count": null,
   "metadata": {},
   "outputs": [],
   "source": [
    "import matplotlib.pyplot as plt\n",
    "\n",
    "\n",
    "def plot_trajectory(func: BiFunc, trajectory: np.ndarray, title=None):\n",
    "    # Create a meshgrid for the 3D plot\n",
    "    x = np.linspace(-PLOT_SIZE, PLOT_SIZE, 100)\n",
    "    y = np.linspace(-PLOT_SIZE, PLOT_SIZE, 100)\n",
    "    X, Y = np.meshgrid(x, y)\n",
    "    Z = np.zeros_like(X)\n",
    "\n",
    "    for i in range(X.shape[0]):\n",
    "        for j in range(X.shape[1]):\n",
    "            Z[i, j] = func(np.array([X[i, j], Y[i, j]]))\n",
    "\n",
    "    # Plot the 3D surface\n",
    "    fig = plt.figure()\n",
    "    ax = fig.add_subplot(111, projection='3d')\n",
    "    ax.plot_surface(X, Y, Z, cmap='viridis', alpha=0.6)  # type: ignore\n",
    "\n",
    "    # Plot the trajectory\n",
    "    ax.plot(trajectory[:, 0], trajectory[:, 1], [func(np.array([x, y]))\n",
    "            for x, y in trajectory], color='r', marker='o')\n",
    "\n",
    "    if title:\n",
    "        ax.set_title(title)\n",
    "    ax.set_xlabel('X')\n",
    "    ax.set_ylabel('Y')\n",
    "    ax.set_zlabel('Z')  # type: ignore\n",
    "    #ax.set_zlim(-2, 20)\n",
    "    plt.show()"
   ]
  },
  {
   "cell_type": "code",
   "execution_count": null,
   "metadata": {},
   "outputs": [],
   "source": [
    "from typing import Dict\n",
    "\n",
    "\n",
    "true_minima: Dict[BiFunc, float] = {\n",
    "    q1: -1.9,\n",
    "    q2: 0.0,\n",
    "    f4: -0.514753641275705599276576050856482912233727798097409,\n",
    "    f5: -0.5,\n",
    "    f6: 0,\n",
    "    fopp: -657.573,\n",
    "    fopp2: 0,\n",
    "    fopp3: -0.2\n",
    "}\n",
    "\n",
    "def print_stats(func: BiFuncStatsDecorator, trajectory: np.ndarray, title=None):\n",
    "\n",
    "    cc, gc, hc = func.call_count, func.gradient_count, func.hessian_count\n",
    "    calculated_min = func(trajectory[-1])\n",
    "    print(\"\\ntitle: \", title)\n",
    "    print(f'Iterations: {len(trajectory) - 1}')\n",
    "    print(f'x: {trajectory[-1]} f(x): {calculated_min}')\n",
    "    print(f'Function evaluations: {cc}')\n",
    "    print(f'Gradient evaluations: {gc}')\n",
    "    print(f'Hessian evaluations: {hc}')\n",
    "    print(f'True minimum: {true_minima[func.f]}')\n",
    "    print(f'Error: {abs(calculated_min - true_minima[func.f])}')\n",
    "    plot_trajectory(func, trajectory, title)\n",
    "    func.reset()"
   ]
  },
  {
   "cell_type": "code",
   "execution_count": null,
   "metadata": {},
   "outputs": [],
   "source": [
    "def relative_x_condition(x: np.ndarray, prev: np.ndarray) -> bool:\n",
    "    # ‖𝑥_{𝑘+1} − 𝑥_𝑘‖ < 𝜀(‖𝑥_{𝑘+1}‖ + 1)\n",
    "    eps = 1e-9\n",
    "    return bool(np.linalg.norm(x - prev) < eps * (np.linalg.norm(x) + 1))\n",
    "\n",
    "def relative_f_condition_ctor(func: BiFunc):\n",
    "    def f(x: np.ndarray, prev: np.ndarray) -> bool:\n",
    "        # ‖∇𝑓(𝑥_𝑘)‖^2 < 𝜀‖∇𝑓(𝑥_0)‖^2\n",
    "        eps = 1e-9\n",
    "        return bool(np.linalg.norm(func.gradient(x) ** 2) < eps * np.linalg.norm(func.gradient(x_0)) ** 2)\n",
    "    return f"
   ]
  },
  {
   "cell_type": "code",
   "execution_count": null,
   "metadata": {},
   "outputs": [],
   "source": [
    "#from scipy.optimize import fmin_cg\n",
    "#from collections import namedtuple\n",
    "#\n",
    "#x_01 = np.array([0.0, 0.0])\n",
    "#x_02 = np.array([1.0, 4.0])\n",
    "#x_03 = np.array([1.0, 1.0])\n",
    "#h_array = [constant_h(0.1), exponential_decay(0.5), exponential_decay(0.3)]\n",
    "#func_array = [BiFuncStatsDecorator(q1), BiFuncStatsDecorator(q2), BiFuncStatsDecorator(f4)]\n",
    "#\n",
    "#Stat = namedtuple('Stat', 'func_calls grad_calls trajectory')\n",
    "#\n",
    "#def get_stat(func, trajectory) -> Stat:\n",
    "#    stat: Stat = Stat(func.call_count, func.gradient_count, trajectory)\n",
    "#    func.reset()\n",
    "#    return stat\n",
    "#\n",
    "#eps = 1e-9\n",
    "#stat_array = []\n",
    "#for x_0 in [x_01, x_02, x_03]:\n",
    "#    lrs_array = [] \n",
    "#    for h in h_array:\n",
    "#        trajectory = learning_rate_scheduling(x_0, func, h, relative_x_condition)\n",
    "#        lrs_array.append(get_stat(func, trajectory))\n",
    "#\n",
    "#\n",
    "#    stat_array.append((x_0, func, (\n",
    "#                                    lrs_array,\n",
    "#                                    [get_stat(func, steepest_gradient_descent_armijo(x_0, func, relative_x_condition))],\n",
    "#                                    [get_stat(func, steepest_gradient_descent_dichotomy(x_0, func, eps, relative_x_condition))],\n",
    "#                                    [get_stat(func, steepest_gradient_descent_scipy_wolfe(x_0, func, relative_x_condition))],\n",
    "#                                    )))\n",
    "#        \n",
    "#alg_name_array = [\"Learning rate scheduling\", \"Armijo Gradient Descent\", \"Dichotomy Gradient Descent\", \"Scipy Wolfe Gradient Descent\"]\n",
    "#h_name_array = [\"constant_h(0.1)\", \"exponential_decay(0.5)\", \"exponential_decay(0.3)\"]\n",
    "#\n",
    "#def print_stat(index: int):\n",
    "#    h = \"\"\n",
    "#    for stat in stat_array:\n",
    "#        x_0 = stat[0]\n",
    "#        func: BiFuncStatsDecorator = stat[1]\n",
    "#        inner_stat_array = stat[2][index]\n",
    "#        for stat_index in range(len(inner_stat_array)):\n",
    "#            if (index == 0):\n",
    "#                h = h_name_array[stat_index]\n",
    "#            # fmin_cg(\n",
    "#            #     func,\n",
    "#            #     x_0,\n",
    "#            #     func.gradient,\n",
    "#            #     disp=True\n",
    "#            # )\n",
    "#            func.call_count = inner_stat_array[stat_index].func_calls\n",
    "#            func.gradient_count = inner_stat_array[stat_index].grad_calls\n",
    "#            print_stats(func, inner_stat_array[stat_index].trajectory, alg_name_array[index] + f' x0={x_0} {h}')\n",
    "#    print(\"-------------------------------------------------------------------\")\n",
    "#    \n",
    "#print_stat(0)\n",
    "#print_stat(1)\n",
    "#print_stat(2)\n",
    "#print_stat(3)"
   ]
  },
  {
   "cell_type": "code",
   "execution_count": null,
   "metadata": {},
   "outputs": [],
   "source": [
    "h = polynomial_decay(0.5, 1)\n",
    "h = geometric_h()\n",
    "h = constant_h(0.01)\n",
    "# h = exponential_decay(0.5)\n",
    "\n",
    "trajectory = learning_rate_scheduling(x_0, func, h, relative_x_condition)\n",
    "print_stats(func, trajectory, \"Learning rate scheduling\")"
   ]
  },
  {
   "cell_type": "code",
   "execution_count": null,
   "metadata": {},
   "outputs": [],
   "source": [
    "eps = 1e-9\n",
    "trajectory = steepest_gradient_descent_dichotomy(\n",
    "    x_0, func, eps, relative_x_condition)\n",
    "print_stats(func, trajectory, \"Dichotomy Gradient Descent\")"
   ]
  },
  {
   "cell_type": "code",
   "execution_count": null,
   "metadata": {},
   "outputs": [],
   "source": [
    "trajectory = steepest_gradient_descent_armijo(x_0, func, relative_x_condition)\n",
    "print_stats(func, trajectory, \"Armijo Gradient Descent\")"
   ]
  },
  {
   "cell_type": "code",
   "execution_count": null,
   "metadata": {},
   "outputs": [],
   "source": [
    "trajectory = steepest_gradient_descent_wolfe(x_0, func, relative_x_condition)\n",
    "print_stats(func, trajectory, \"Wolfe Gradient Descent\")"
   ]
  },
  {
   "cell_type": "code",
   "execution_count": null,
   "metadata": {},
   "outputs": [],
   "source": [
    "trajectory = steepest_gradient_descent_scipy_wolfe(x_0, func, relative_x_condition)\n",
    "print_stats(func, trajectory, \"Scipy Wolfe Gradient Descent\")"
   ]
  },
  {
   "cell_type": "code",
   "execution_count": null,
   "metadata": {},
   "outputs": [],
   "source": [
    "trajectory = damped_newton_descent(x_0, func, relative_x_condition, constant_h(0.2))\n",
    "print_stats(func, trajectory, \"Damped Newton Method\")"
   ]
  },
  {
   "cell_type": "code",
   "execution_count": null,
   "metadata": {},
   "outputs": [],
   "source": [
    "def armijo_step_selector(k, x, grad, func):\n",
    "    return armijo(x, func, grad)\n",
    "trajectory = newton_descent_with_1d_search(x_0, func, relative_x_condition, armijo_step_selector)\n",
    "print_stats(func, trajectory, \"Newton method with 1d search (armijo)\")"
   ]
  },
  {
   "cell_type": "code",
   "execution_count": null,
   "metadata": {},
   "outputs": [],
   "source": [
    "%matplotlib qt\n",
    "\n",
    "trajectory = bfgs(x_0, func, 1e-3)\n",
    "print_stats(func, trajectory, \"BFGS\")"
   ]
  },
  {
   "cell_type": "code",
   "execution_count": null,
   "metadata": {},
   "outputs": [],
   "source": [
    "from scipy.optimize import fmin_cg\n",
    "\n",
    "# Conjugate Gradient Descent, similar to steepest GD\n",
    "fmin_cg(\n",
    "    func,\n",
    "    x_0 - 0.1,\n",
    "    func.gradient,\n",
    "    disp=True\n",
    ")"
   ]
  }
 ],
 "metadata": {
  "kernelspec": {
   "display_name": ".venv",
   "language": "python",
   "name": "python3"
  },
  "language_info": {
   "codemirror_mode": {
    "name": "ipython",
    "version": 3
   },
   "file_extension": ".py",
   "mimetype": "text/x-python",
   "name": "python",
   "nbconvert_exporter": "python",
   "pygments_lexer": "ipython3",
   "version": "3.13.2"
  }
 },
 "nbformat": 4,
 "nbformat_minor": 2
}
