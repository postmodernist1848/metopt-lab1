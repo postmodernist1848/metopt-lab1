{
 "cells": [
  {
   "cell_type": "code",
   "execution_count": 1,
   "metadata": {},
   "outputs": [],
   "source": [
    "%matplotlib qt"
   ]
  },
  {
   "cell_type": "code",
   "execution_count": 2,
   "metadata": {},
   "outputs": [],
   "source": [
    "from main import *\n",
    "import math\n",
    "\n",
    "def constant_h(k: int):\n",
    "    return 0.1\n",
    "\n",
    "h0 = 1\n",
    "\n",
    "def geometric_h(k: int):\n",
    "    return h0 / 2**k\n",
    "\n",
    "def exponential_decay(λ: float) -> LearningRateFunc:\n",
    "    assert λ > 0\n",
    "    return lambda k: h0 * math.exp(-λ * k)\n",
    "\n",
    "def polynomial_decay(α: float, β: float) -> LearningRateFunc:\n",
    "    assert α > 0\n",
    "    assert β > 0\n",
    "    return lambda k: 1/math.sqrt(k + 1) * (β * k + 1) ** -α\n"
   ]
  },
  {
   "cell_type": "code",
   "execution_count": 3,
   "metadata": {},
   "outputs": [],
   "source": [
    "q1 = Quadratic(\n",
    "    np.array([[1, 0], [0, 1]]),\n",
    "    np.array([1, 1]),\n",
    "    -1.4\n",
    ")\n",
    "\n",
    "q2 = Quadratic(\n",
    "    np.array([[0.1, 0], [0, 3]]),\n",
    "    np.array([0, 0]),\n",
    "    0\n",
    ")"
   ]
  },
  {
   "cell_type": "code",
   "execution_count": null,
   "metadata": {},
   "outputs": [
    {
     "name": "stdout",
     "output_type": "stream",
     "text": [
      "k: 42, x: [0.58047023 0.2213543 ], f: 0.18068774096269533\n"
     ]
    }
   ],
   "source": [
    "import numpy as np\n",
    "from main import *\n",
    "\n",
    "func = q1\n",
    "x_0 = np.array([1.0, 1.0])\n",
    "h = exponential_decay(0.5)\n",
    "\n",
    "def relative_x_condition(x: np.ndarray, prev: np.ndarray) -> bool:\n",
    "    # ‖𝑥_{𝑘+1} − 𝑥_𝑘‖ < 𝜀(‖𝑥_{𝑘+1}‖ + 1)\n",
    "    eps = 1e-9\n",
    "    return bool(np.linalg.norm(x - prev) < eps * (np.linalg.norm(x) + 1))\n",
    "\n",
    "def relative_f_condition(func: BiFunc, x: np.ndarray, prev: np.ndarray) -> bool:\n",
    "    # ‖∇𝑓(𝑥_𝑘)‖^2 < 𝜀‖∇𝑓(𝑥_0)‖^2\n",
    "    eps = 1e-9\n",
    "    return bool(np.linalg.norm(func.gradient(x) ** 2) < eps * np.linalg.norm(func.gradient(x_0)) ** 2)\n",
    "\n",
    "trajectory = learning_rate_scheduling(x_0, func, h, relative_x_condition)"
   ]
  },
  {
   "cell_type": "code",
   "execution_count": 5,
   "metadata": {},
   "outputs": [
    {
     "name": "stdout",
     "output_type": "stream",
     "text": [
      "k: 12, x: [ 7.24890207e-10 -8.05426782e-13], f: 5.2548527417457706e-20\n"
     ]
    }
   ],
   "source": [
    "eps = 1e-9\n",
    "trajectory = steepest_gradient_descent_dichotomy(x_0, func, eps, relative_x_condition)"
   ]
  },
  {
   "cell_type": "code",
   "execution_count": 6,
   "metadata": {},
   "outputs": [
    {
     "name": "stdout",
     "output_type": "stream",
     "text": [
      "0.08601553829078802\n",
      "0.08333458507836145\n",
      "0.0833333347097293\n",
      "0.08333333333486267\n",
      "0.08333333333333504\n",
      "0.08333333333333334\n",
      "nan\n",
      "nan\n",
      "nan\n"
     ]
    },
    {
     "name": "stderr",
     "output_type": "stream",
     "text": [
      "/home/postmodernist1848/itmo/metopt/lab1/main.py:53: RuntimeWarning: overflow encountered in multiply\n",
      "  x = x - h * grad\n",
      "/home/postmodernist1848/itmo/metopt/lab1/main.py:36: RuntimeWarning: invalid value encountered in matmul\n",
      "  return 2 * self.A @ x + self.B\n",
      "/home/postmodernist1848/itmo/metopt/lab1/main.py:33: RuntimeWarning: invalid value encountered in matmul\n",
      "  return float(x.T @ self.A @ x + self.B @ x + self.C)\n"
     ]
    },
    {
     "name": "stdout",
     "output_type": "stream",
     "text": [
      "nan\n",
      "nan\n",
      "nan\n",
      "nan\n",
      "nan\n",
      "nan\n",
      "nan\n",
      "nan\n",
      "nan\n",
      "nan\n",
      "nan\n",
      "nan\n",
      "nan\n",
      "nan\n",
      "nan\n",
      "nan\n",
      "nan\n",
      "nan\n",
      "nan\n",
      "nan\n",
      "nan\n",
      "nan\n",
      "nan\n",
      "nan\n",
      "nan\n",
      "nan\n",
      "nan\n",
      "nan\n",
      "nan\n",
      "nan\n",
      "nan\n",
      "nan\n",
      "nan\n",
      "nan\n",
      "nan\n",
      "nan\n",
      "nan\n",
      "nan\n",
      "nan\n",
      "nan\n",
      "nan\n",
      "nan\n",
      "nan\n",
      "nan\n",
      "nan\n",
      "nan\n",
      "nan\n",
      "nan\n",
      "nan\n"
     ]
    },
    {
     "ename": "KeyboardInterrupt",
     "evalue": "",
     "output_type": "error",
     "traceback": [
      "\u001b[31m---------------------------------------------------------------------------\u001b[39m",
      "\u001b[31mKeyboardInterrupt\u001b[39m                         Traceback (most recent call last)",
      "\u001b[36mCell\u001b[39m\u001b[36m \u001b[39m\u001b[32mIn[6]\u001b[39m\u001b[32m, line 2\u001b[39m\n\u001b[32m      1\u001b[39m eps = \u001b[32m1e-9\u001b[39m\n\u001b[32m----> \u001b[39m\u001b[32m2\u001b[39m trajectory = \u001b[43msteepest_gradient_descent_armijo\u001b[49m\u001b[43m(\u001b[49m\u001b[43mx_0\u001b[49m\u001b[43m,\u001b[49m\u001b[43m \u001b[49m\u001b[43mfunc\u001b[49m\u001b[43m,\u001b[49m\u001b[43m \u001b[49m\u001b[43meps\u001b[49m\u001b[43m,\u001b[49m\u001b[43m \u001b[49m\u001b[43mrelative_x_condition\u001b[49m\u001b[43m)\u001b[49m\n",
      "\u001b[36mFile \u001b[39m\u001b[32m~/itmo/metopt/lab1/main.py:91\u001b[39m, in \u001b[36msteepest_gradient_descent_armijo\u001b[39m\u001b[34m(x_0, func, eps, sc)\u001b[39m\n\u001b[32m     88\u001b[39m \u001b[38;5;28;01mdef\u001b[39;00m\u001b[38;5;250m \u001b[39m\u001b[34mstep_selector\u001b[39m(k, x, grad, func):\n\u001b[32m     89\u001b[39m     \u001b[38;5;28;01mreturn\u001b[39;00m armijo(x, func)\n\u001b[32m---> \u001b[39m\u001b[32m91\u001b[39m \u001b[38;5;28;01mreturn\u001b[39;00m \u001b[43mgradient_descent\u001b[49m\u001b[43m(\u001b[49m\u001b[43mx_0\u001b[49m\u001b[43m,\u001b[49m\u001b[43m \u001b[49m\u001b[43mfunc\u001b[49m\u001b[43m,\u001b[49m\u001b[43m \u001b[49m\u001b[43mstep_selector\u001b[49m\u001b[43m,\u001b[49m\u001b[43m \u001b[49m\u001b[43msc\u001b[49m\u001b[43m)\u001b[49m\n",
      "\u001b[36mFile \u001b[39m\u001b[32m~/itmo/metopt/lab1/main.py:51\u001b[39m, in \u001b[36mgradient_descent\u001b[39m\u001b[34m(x_0, func, step_selector, sc)\u001b[39m\n\u001b[32m     48\u001b[39m grad = func.gradient(x)\n\u001b[32m     49\u001b[39m prev = x.copy()\n\u001b[32m---> \u001b[39m\u001b[32m51\u001b[39m h = \u001b[43mstep_selector\u001b[49m\u001b[43m(\u001b[49m\u001b[43mk\u001b[49m\u001b[43m,\u001b[49m\u001b[43m \u001b[49m\u001b[43mx\u001b[49m\u001b[43m,\u001b[49m\u001b[43m \u001b[49m\u001b[43mgrad\u001b[49m\u001b[43m,\u001b[49m\u001b[43m \u001b[49m\u001b[43mfunc\u001b[49m\u001b[43m)\u001b[49m\n\u001b[32m     53\u001b[39m x = x - h * grad\n\u001b[32m     54\u001b[39m trajectory.append(x.copy())\n",
      "\u001b[36mFile \u001b[39m\u001b[32m~/itmo/metopt/lab1/main.py:89\u001b[39m, in \u001b[36msteepest_gradient_descent_armijo.<locals>.step_selector\u001b[39m\u001b[34m(k, x, grad, func)\u001b[39m\n\u001b[32m     88\u001b[39m \u001b[38;5;28;01mdef\u001b[39;00m\u001b[38;5;250m \u001b[39m\u001b[34mstep_selector\u001b[39m(k, x, grad, func):\n\u001b[32m---> \u001b[39m\u001b[32m89\u001b[39m     \u001b[38;5;28;01mreturn\u001b[39;00m \u001b[43marmijo\u001b[49m\u001b[43m(\u001b[49m\u001b[43mx\u001b[49m\u001b[43m,\u001b[49m\u001b[43m \u001b[49m\u001b[43mfunc\u001b[49m\u001b[43m)\u001b[49m\n",
      "\u001b[36mFile \u001b[39m\u001b[32m~/itmo/metopt/lab1/main.py:142\u001b[39m, in \u001b[36marmijo\u001b[39m\u001b[34m(x_k, func)\u001b[39m\n\u001b[32m    139\u001b[39m q = \u001b[32m0.7\u001b[39m\n\u001b[32m    141\u001b[39m \u001b[38;5;28;01mfor\u001b[39;00m _ \u001b[38;5;129;01min\u001b[39;00m \u001b[38;5;28mrange\u001b[39m(MAX_ITERATION_LIMIT):\n\u001b[32m--> \u001b[39m\u001b[32m142\u001b[39m     \u001b[38;5;28;01mif\u001b[39;00m \u001b[43mfunc\u001b[49m\u001b[43m(\u001b[49m\u001b[43mx_k\u001b[49m\u001b[43m \u001b[49m\u001b[43m+\u001b[49m\u001b[43m \u001b[49m\u001b[43malpha\u001b[49m\u001b[43m)\u001b[49m < \u001b[38;5;28mfloat\u001b[39m(l_alpha):\n\u001b[32m    143\u001b[39m         \u001b[38;5;28;01mbreak\u001b[39;00m\n\u001b[32m    144\u001b[39m     alpha = q*alpha\n",
      "\u001b[31mKeyboardInterrupt\u001b[39m: "
     ]
    }
   ],
   "source": [
    "eps = 1e-9\n",
    "trajectory = steepest_gradient_descent_armijo(x_0, func, eps, relative_x_condition)"
   ]
  },
  {
   "cell_type": "code",
   "execution_count": null,
   "metadata": {},
   "outputs": [
    {
     "name": "stdout",
     "output_type": "stream",
     "text": [
      "Optimization terminated successfully.\n",
      "         Current function value: 0.000000\n",
      "         Iterations: 3\n",
      "         Function evaluations: 6\n",
      "         Gradient evaluations: 6\n"
     ]
    }
   ],
   "source": [
    "from main import *\n",
    "from scipy.optimize import minimize\n",
    "\n",
    "minimize(\n",
    "    func,\n",
    "    x_0,\n",
    "    method='CG',\n",
    "    jac=func.gradient,\n",
    "    options={'disp': True}\n",
    ")\n",
    "\n",
    "# Create a meshgrid for the 3D plot\n",
    "x = np.linspace(-1, 1, 100)\n",
    "y = np.linspace(-1, 1, 100)\n",
    "X, Y = np.meshgrid(x, y)\n",
    "Z = np.zeros_like(X)\n",
    "\n",
    "for i in range(X.shape[0]):\n",
    "    for j in range(X.shape[1]):\n",
    "        Z[i, j] = func(np.array([X[i, j], Y[i, j]]))\n",
    "\n",
    "# Plot the 3D surface\n",
    "fig = plt.figure()\n",
    "ax = fig.add_subplot(111, projection='3d')\n",
    "ax.plot_surface(X, Y, Z, cmap='viridis', alpha=0.6) # type: ignore\n",
    "\n",
    "# Plot the trajectory\n",
    "ax.plot(trajectory[:, 0], trajectory[:, 1], [func(np.array([x, y])) for x, y in trajectory], color='r', marker='o')\n",
    "\n",
    "ax.set_xlabel('X')\n",
    "ax.set_ylabel('Y')\n",
    "ax.set_zlabel('Z') # type: ignore\n",
    "plt.show()"
   ]
  },
  {
   "cell_type": "code",
   "execution_count": null,
   "metadata": {},
   "outputs": [
    {
     "data": {
      "text/plain": [
       "1.9999999925494194"
      ]
     },
     "execution_count": 51,
     "metadata": {},
     "output_type": "execute_result"
    }
   ],
   "source": [
    "from main import *\n",
    "dichotomy(-10, 10, lambda x: (x - 2)**2 + 3.0, 1e-9)"
   ]
  }
 ],
 "metadata": {
  "kernelspec": {
   "display_name": ".venv",
   "language": "python",
   "name": "python3"
  },
  "language_info": {
   "codemirror_mode": {
    "name": "ipython",
    "version": 3
   },
   "file_extension": ".py",
   "mimetype": "text/x-python",
   "name": "python",
   "nbconvert_exporter": "python",
   "pygments_lexer": "ipython3",
   "version": "3.13.2"
  }
 },
 "nbformat": 4,
 "nbformat_minor": 2
}
