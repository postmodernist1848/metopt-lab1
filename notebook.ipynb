{
 "cells": [
  {
   "cell_type": "code",
   "execution_count": null,
   "metadata": {},
   "outputs": [],
   "source": [
    "%matplotlib qt"
   ]
  },
  {
   "cell_type": "code",
   "execution_count": null,
   "metadata": {},
   "outputs": [],
   "source": [
    "from main import *\n",
    "import math\n",
    "\n",
    "def constant_h(c: float) -> LearningRateFunc:\n",
    "    return lambda k: c\n",
    "\n",
    "h0 = 1\n",
    "def geometric_h() -> LearningRateFunc:\n",
    "    return lambda k: h0 / 2**k\n",
    "\n",
    "def exponential_decay(λ: float) -> LearningRateFunc:\n",
    "    assert λ > 0\n",
    "    return lambda k: h0 * math.exp(-λ * k)\n",
    "\n",
    "def polynomial_decay(α: float, β: float) -> LearningRateFunc:\n",
    "    assert α > 0\n",
    "    assert β > 0\n",
    "    return lambda k: 1/math.sqrt(k + 1) * (β * k + 1) ** -α\n"
   ]
  },
  {
   "cell_type": "code",
   "execution_count": null,
   "metadata": {},
   "outputs": [],
   "source": [
    "q1 = Quadratic(\n",
    "    np.array([[1, 0], [0, 1]]),\n",
    "    np.array([1, 1]),\n",
    "    -1.4\n",
    ")\n",
    "\n",
    "q2 = Quadratic(\n",
    "    np.array([[0.1, 0], [0, 3]]),\n",
    "    np.array([0, 0]),\n",
    "    0\n",
    ")\n",
    "\n",
    "q3 = Quadratic(\n",
    "    np.array([[4, 0], [0, 1]]),\n",
    "    np.array([-1, 2]),\n",
    "    1.5\n",
    ")\n",
    "\n",
    "q4 = Quadratic(\n",
    "    np.array([[4, 1], [1, -4]]),\n",
    "    np.array([0, 0]),\n",
    "    0\n",
    ")\n",
    "\n",
    "def multimodal_function(x, y):\n",
    "    # Function with multiple local minima and one global minimum\n",
    "    #term1 = np.sin(x)\n",
    "    term2 = -1.0 * np.exp(-(x**2 + y**2)/10)\n",
    "    # term3 = 0.1 * (x**2 + y**2)\n",
    "    return term2\n",
    "\n",
    "def mf2(x, y):\n",
    "    return (x**2 + y - 11)**2 + (x + y**2 -7)**2\n",
    "\n",
    "f1 = BiFuncCallableWrapper(multimodal_function)\n",
    "f2 = BiFuncCallableWrapper(mf2)"
   ]
  },
  {
   "cell_type": "code",
   "execution_count": null,
   "metadata": {},
   "outputs": [],
   "source": [
    "import numpy as np\n",
    "from main import *\n",
    "\n",
    "func = f1\n",
    "x_0 = np.array([5.0, 4.9])\n",
    "h = constant_h(0.1)\n",
    "\n",
    "def relative_x_condition(x: np.ndarray, prev: np.ndarray) -> bool:\n",
    "    # ‖𝑥_{𝑘+1} − 𝑥_𝑘‖ < 𝜀(‖𝑥_{𝑘+1}‖ + 1)\n",
    "    eps = 1e-9\n",
    "    return bool(np.linalg.norm(x - prev) < eps * (np.linalg.norm(x) + 1))\n",
    "\n",
    "def relative_f_condition(x: np.ndarray, prev: np.ndarray) -> bool:\n",
    "    # ‖∇𝑓(𝑥_𝑘)‖^2 < 𝜀‖∇𝑓(𝑥_0)‖^2\n",
    "    eps = 1e-9\n",
    "    return bool(np.linalg.norm(func.gradient(x) ** 2) < eps * np.linalg.norm(func.gradient(x_0)) ** 2)\n",
    "\n",
    "print(f1.gradient(x_0))\n",
    "trajectory = learning_rate_scheduling(x_0, func, h, relative_f_condition)"
   ]
  },
  {
   "cell_type": "code",
   "execution_count": null,
   "metadata": {},
   "outputs": [],
   "source": [
    "eps = 1e-9\n",
    "trajectory = steepest_gradient_descent_dichotomy(x_0, func, eps, relative_x_condition)"
   ]
  },
  {
   "cell_type": "code",
   "execution_count": null,
   "metadata": {},
   "outputs": [],
   "source": [
    "eps = 1e-9\n",
    "trajectory = steepest_gradient_descent_armijo(x_0, func, eps, relative_x_condition)"
   ]
  },
  {
   "cell_type": "code",
   "execution_count": null,
   "metadata": {},
   "outputs": [],
   "source": [
    "from scipy.optimize import minimize\n",
    "minimize(\n",
    "    func,\n",
    "    x_0,\n",
    "    method='CG',\n",
    "    jac=func.gradient,\n",
    "    options={'disp': True}\n",
    ")"
   ]
  },
  {
   "cell_type": "code",
   "execution_count": null,
   "metadata": {},
   "outputs": [],
   "source": [
    "from main import *\n",
    "import matplotlib.pyplot as plt\n",
    "\n",
    "# Create a meshgrid for the 3D plot\n",
    "x = np.linspace(-10, 10, 100)\n",
    "y = np.linspace(-10, 10, 100)\n",
    "X, Y = np.meshgrid(x, y)\n",
    "Z = np.zeros_like(X)\n",
    "\n",
    "for i in range(X.shape[0]):\n",
    "    for j in range(X.shape[1]):\n",
    "        Z[i, j] = func(np.array([X[i, j], Y[i, j]]))\n",
    "\n",
    "# Plot the 3D surface\n",
    "fig = plt.figure()\n",
    "ax = fig.add_subplot(111, projection='3d')\n",
    "ax.plot_surface(X, Y, Z, cmap='viridis', alpha=0.6) # type: ignore\n",
    "\n",
    "# Plot the trajectory\n",
    "ax.plot(trajectory[:, 0], trajectory[:, 1], [func(np.array([x, y])) for x, y in trajectory], color='r', marker='o')\n",
    "\n",
    "ax.set_xlabel('X')\n",
    "ax.set_ylabel('Y')\n",
    "ax.set_zlabel('Z') # type: ignore\n",
    "plt.show()"
   ]
  }
 ],
 "metadata": {
  "kernelspec": {
   "display_name": ".venv",
   "language": "python",
   "name": "python3"
  },
  "language_info": {
   "codemirror_mode": {
    "name": "ipython",
    "version": 3
   },
   "file_extension": ".py",
   "mimetype": "text/x-python",
   "name": "python",
   "nbconvert_exporter": "python",
   "pygments_lexer": "ipython3",
   "version": "3.13.2"
  }
 },
 "nbformat": 4,
 "nbformat_minor": 2
}
