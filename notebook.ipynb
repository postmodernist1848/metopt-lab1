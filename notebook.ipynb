{
 "cells": [
  {
   "cell_type": "code",
   "execution_count": null,
   "metadata": {},
   "outputs": [],
   "source": [
    "%matplotlib inline"
   ]
  },
  {
   "cell_type": "code",
   "execution_count": null,
   "metadata": {},
   "outputs": [],
   "source": [
    "from algorithms import *\n",
    "from funcs import *\n",
    "from stats import *\n",
    "import numpy as np"
   ]
  },
  {
   "cell_type": "code",
   "execution_count": null,
   "metadata": {},
   "outputs": [],
   "source": [
    "func = BiFuncStatsDecorator(fopp3)\n",
    "x_0 = np.array([1.2, 1.2])"
   ]
  },
  {
   "cell_type": "code",
   "execution_count": null,
   "metadata": {},
   "outputs": [],
   "source": [
    "from typing import Dict\n",
    "\n",
    "true_minima: Dict[BiFunc, float] = {\n",
    "    q1: -1.9,\n",
    "    q2: 0.0,\n",
    "    f4: -0.514753641275705599276576050856482912233727798097409,\n",
    "    f5: -0.5,\n",
    "    f6: 0,\n",
    "    fopp: -657.573,\n",
    "    fopp2: 0,\n",
    "    fopp3: -0.119789,\n",
    "    fsinsin: -2,\n",
    "}\n",
    "\n",
    "print(q1.min(), q2.min())\n"
   ]
  },
  {
   "cell_type": "code",
   "execution_count": null,
   "metadata": {},
   "outputs": [],
   "source": []
  },
  {
   "cell_type": "code",
   "execution_count": null,
   "metadata": {},
   "outputs": [],
   "source": [
    "\n",
    "h = polynomial_decay(0.5, 1)\n",
    "h = geometric_h()\n",
    "h = constant_h(0.01)\n",
    "#h = exponential_decay(0.1)\n",
    "\n",
    "trajectory = learning_rate_scheduling(x_0, func, h, relative_x_condition())\n",
    "print_stats(func, trajectory, \"Learning rate scheduling\")\n"
   ]
  },
  {
   "cell_type": "code",
   "execution_count": null,
   "metadata": {},
   "outputs": [],
   "source": [
    "eps = 1e-9\n",
    "trajectory = steepest_gradient_descent_dichotomy(\n",
    "    x_0, func, eps, relative_x_condition())\n",
    "print_stats(func, trajectory, \"Dichotomy Gradient Descent\")"
   ]
  },
  {
   "cell_type": "code",
   "execution_count": null,
   "metadata": {},
   "outputs": [],
   "source": [
    "trajectory = steepest_gradient_descent_armijo(x_0, func, relative_x_condition())\n",
    "print_stats(func, trajectory, \"Armijo Gradient Descent\")"
   ]
  },
  {
   "cell_type": "code",
   "execution_count": null,
   "metadata": {},
   "outputs": [],
   "source": [
    "trajectory = steepest_gradient_descent_wolfe(x_0, func, relative_x_condition())\n",
    "print_stats(func, trajectory, \"Wolfe Gradient Descent\")"
   ]
  },
  {
   "cell_type": "code",
   "execution_count": null,
   "metadata": {},
   "outputs": [],
   "source": [
    "trajectory = steepest_gradient_descent_scipy_wolfe(x_0, func, relative_x_condition())\n",
    "print_stats(func, trajectory, \"Scipy Wolfe Gradient Descent\")"
   ]
  },
  {
   "cell_type": "code",
   "execution_count": null,
   "metadata": {},
   "outputs": [],
   "source": [
    "trajectory = damped_newton_descent(x_0, func, relative_x_condition(), constant_h(0.1))\n",
    "print_stats(func, trajectory, \"Damped Newton Method\")"
   ]
  },
  {
   "cell_type": "code",
   "execution_count": null,
   "metadata": {},
   "outputs": [],
   "source": [
    "def armijo_step_selector(k, x, grad, func):\n",
    "    return armijo(x, func, grad)\n",
    "trajectory = newton_descent_with_1d_search(x_0, func, relative_x_condition(), armijo_step_selector)\n",
    "print_stats(func, trajectory, \"Newton method with 1d search (armijo)\")"
   ]
  },
  {
   "cell_type": "code",
   "execution_count": null,
   "metadata": {},
   "outputs": [],
   "source": [
    "trajectory = bfgs(x_0, func, 1e-3)\n",
    "print_stats(func, trajectory, \"BFGS\")"
   ]
  },
  {
   "cell_type": "code",
   "execution_count": null,
   "metadata": {},
   "outputs": [],
   "source": [
    "from scipy.optimize import fmin_cg\n",
    "\n",
    "# Conjugate Gradient Descent\n",
    "fmin_cg(\n",
    "    func,\n",
    "    x_0,\n",
    "    func.gradient,\n",
    "    disp=True\n",
    ")"
   ]
  }
 ],
 "metadata": {
  "kernelspec": {
   "display_name": ".venv",
   "language": "python",
   "name": "python3"
  },
  "language_info": {
   "codemirror_mode": {
    "name": "ipython",
    "version": 3
   },
   "file_extension": ".py",
   "mimetype": "text/x-python",
   "name": "python",
   "nbconvert_exporter": "python",
   "pygments_lexer": "ipython3",
   "version": "3.13.2"
  }
 },
 "nbformat": 4,
 "nbformat_minor": 2
}
