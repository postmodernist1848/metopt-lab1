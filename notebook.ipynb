{
 "cells": [
  {
   "cell_type": "code",
   "execution_count": null,
   "metadata": {},
   "outputs": [],
   "source": [
    "%matplotlib inline"
   ]
  },
  {
   "cell_type": "code",
   "execution_count": null,
   "metadata": {},
   "outputs": [],
   "source": [
    "from lib.algorithms import *\n",
    "from lib.funcs import *\n",
    "from lib.stats import *"
   ]
  },
  {
   "cell_type": "code",
   "execution_count": null,
   "metadata": {},
   "outputs": [],
   "source": [
    "func = BiFuncStatsDecorator(fopp3)\n",
    "x_0 = np.array([1.2, 1.2])"
   ]
  },
  {
   "cell_type": "code",
   "execution_count": null,
   "metadata": {},
   "outputs": [],
   "source": [
    "pol = lr_polynomial_decay(0.5, 1)\n",
    "geom = lr_geometric()\n",
    "const = lr_constant(0.01)\n",
    "exp = lr_exponential_decay(0.1)\n",
    "\n",
    "trajectory = learning_rate_scheduling(x_0, func, const, relative_x_condition())\n",
    "print_stats(func, trajectory, \"Learning rate scheduling\")"
   ]
  },
  {
   "cell_type": "code",
   "execution_count": null,
   "metadata": {},
   "outputs": [],
   "source": [
    "trajectory = steepest_gradient_descent_dichotomy(x_0, func, 1e-9, relative_x_condition())\n",
    "print_stats(func, trajectory, \"Dichotomy Gradient Descent\")"
   ]
  },
  {
   "cell_type": "code",
   "execution_count": null,
   "metadata": {},
   "outputs": [],
   "source": [
    "trajectory = steepest_gradient_descent_armijo(x_0, func, relative_x_condition())\n",
    "print_stats(func, trajectory, \"Armijo Gradient Descent\")"
   ]
  },
  {
   "cell_type": "code",
   "execution_count": null,
   "metadata": {},
   "outputs": [],
   "source": [
    "trajectory = steepest_gradient_descent_wolfe(x_0, func, relative_x_condition())\n",
    "print_stats(func, trajectory, \"Wolfe Gradient Descent\")"
   ]
  },
  {
   "cell_type": "code",
   "execution_count": null,
   "metadata": {},
   "outputs": [],
   "source": [
    "trajectory = steepest_gradient_descent_scipy_wolfe(x_0, func, relative_x_condition())\n",
    "print_stats(func, trajectory, \"Scipy Wolfe Gradient Descent\")"
   ]
  },
  {
   "cell_type": "code",
   "execution_count": null,
   "metadata": {},
   "outputs": [],
   "source": [
    "trajectory = damped_newton_descent(x_0, func, relative_x_condition(), lr_constant(0.1))\n",
    "print_stats(func, trajectory, \"Damped Newton Method\")"
   ]
  },
  {
   "cell_type": "code",
   "execution_count": null,
   "metadata": {},
   "outputs": [],
   "source": [
    "trajectory = newton_descent_with_1d_search(x_0, func, relative_x_condition(), armijo_step_selector)\n",
    "print_stats(func, trajectory, \"Newton method with 1d search (armijo)\")"
   ]
  },
  {
   "cell_type": "code",
   "execution_count": null,
   "metadata": {},
   "outputs": [],
   "source": [
    "trajectory = bfgs(x_0, func, 1e-3)\n",
    "print_stats(func, trajectory, \"BFGS\")"
   ]
  },
  {
   "cell_type": "code",
   "execution_count": null,
   "metadata": {},
   "outputs": [],
   "source": [
    "from scipy.optimize import fmin_cg\n",
    "\n",
    "# Conjugate Gradient Descent\n",
    "fmin_cg(\n",
    "    func,\n",
    "    x_0,\n",
    "    func.gradient,\n",
    "    disp=True\n",
    ")"
   ]
  }
 ],
 "metadata": {
  "kernelspec": {
   "display_name": "Python 3",
   "language": "python",
   "name": "python3"
  },
  "language_info": {
   "codemirror_mode": {
    "name": "ipython",
    "version": 3
   },
   "file_extension": ".py",
   "mimetype": "text/x-python",
   "name": "python",
   "nbconvert_exporter": "python",
   "pygments_lexer": "ipython3",
   "version": "3.13.2"
  }
 },
 "nbformat": 4,
 "nbformat_minor": 2
}
