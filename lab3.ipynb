{
 "cells": [
  {
   "cell_type": "code",
   "execution_count": null,
   "id": "ab402656",
   "metadata": {},
   "outputs": [
    {
     "name": "stdout",
     "output_type": "stream",
     "text": [
      "[2.80143361 1.37486804 2.51623783 1.50062098] 1.245475267410994\n",
      "[4.04386003 3.06773605 2.09265124 0.97619562] 0.041476774064081956\n"
     ]
    },
    {
     "name": "stderr",
     "output_type": "stream",
     "text": [
      "c:\\Users\\denzu\\OneDrive\\Desktop\\metopt\\metopt-lab1\\sgd\\__init__.py:107: UserWarning: Creating a tensor from a list of numpy.ndarrays is extremely slow. Please consider converting the list to a single numpy.ndarray with numpy.array() before converting to a tensor. (Triggered internally at C:\\actions-runner\\_work\\pytorch\\pytorch\\pytorch\\torch\\csrc\\utils\\tensor_new.cpp:257.)\n",
      "  X = torch.tensor([x[0] for x in dataset], dtype=torch.float32)\n"
     ]
    },
    {
     "name": "stdout",
     "output_type": "stream",
     "text": [
      "[1.9235908 2.9999995 2.0000002 1.0000001] 4.311473926352935\n"
     ]
    }
   ],
   "source": [
    "import sgd\n",
    "import numpy as np\n",
    "from lib import algorithms\n",
    "\n",
    "quadratic = sgd.Polynomial(3)\n",
    "\n",
    "dataset_parameters = np.array([4, 3, 2, 1])  # y = 4 + 3x + 2x^2 + x^3\n",
    "\n",
    "dataset = [(np.array([x]), quadratic(dataset_parameters, np.array([x]))) for x in np.linspace(-2, 2, 500)]\n",
    "reg = sgd.L1Regularization(0)\n",
    "ef = sgd.ErrorFunc(quadratic, reg, dataset)\n",
    "epochs = 100\n",
    "batch_size = 10\n",
    "lr_c = algorithms.lr_constant(0.01);\n",
    "momentum = 0.9\n",
    "\n",
    "res = sgd.sgd(quadratic, reg, dataset, epochs=epochs, batch_size=batch_size, lr=lr_c)\n",
    "print(res, ef(res))\n",
    "res_m = sgd.sgd(quadratic, reg, dataset, epochs=epochs, batch_size=batch_size, lr=lr_c, momentum=momentum)\n",
    "print(res_m, ef(res_m))\n",
    "res2 = sgd.torch_sgd(dataset, degree=3, epochs=epochs, batch_size=batch_size, lr=0.01, optimizer_type='SGD_Momentum', momentum=momentum)\n",
    "print(res2, ef(res2))"
   ]
  }
 ],
 "metadata": {
  "kernelspec": {
   "display_name": "Python 3",
   "language": "python",
   "name": "python3"
  },
  "language_info": {
   "codemirror_mode": {
    "name": "ipython",
    "version": 3
   },
   "file_extension": ".py",
   "mimetype": "text/x-python",
   "name": "python",
   "nbconvert_exporter": "python",
   "pygments_lexer": "ipython3",
   "version": "3.13.3"
  }
 },
 "nbformat": 4,
 "nbformat_minor": 5
}
