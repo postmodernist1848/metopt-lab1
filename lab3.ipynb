{
 "cells": [
  {
   "cell_type": "code",
   "execution_count": 9,
   "id": "ab402656",
   "metadata": {},
   "outputs": [
    {
     "name": "stdout",
     "output_type": "stream",
     "text": [
      "[3.73502992 1.50121044 1.46667188 0.95442859] 1.0017733487895402\n",
      "[2.0971775 2.9999907 1.9999998 1.0000136] 3.620733749263612\n"
     ]
    }
   ],
   "source": [
    "import sgd\n",
    "import numpy as np\n",
    "\n",
    "quadratic = sgd.Polynomial(3)\n",
    "\n",
    "dataset_parameters = np.array([4, 3, 2, 1])  # y = 4 + 3x + 2x^2 + x^3\n",
    "\n",
    "dataset = [(np.array([x]), quadratic(dataset_parameters, np.array([x]))) for x in np.linspace(-1, 1, 500)]\n",
    "reg = sgd.L1Regularization(0)\n",
    "ef = sgd.ErrorFunc(quadratic, reg, dataset)\n",
    "res = sgd.sgd(quadratic, reg, dataset, epochs=100, batch_size=10, lr=0.01)\n",
    "print(res, ef(res))\n",
    "res2 = sgd.torch_sgd(dataset, degree=3, epochs=100, batch_size=10, lr=0.01, optimizer_type='SGD_Momentum', momentum=0.9)\n",
    "print(res2, ef(res2))"
   ]
  }
 ],
 "metadata": {
  "kernelspec": {
   "display_name": "Python 3",
   "language": "python",
   "name": "python3"
  },
  "language_info": {
   "codemirror_mode": {
    "name": "ipython",
    "version": 3
   },
   "file_extension": ".py",
   "mimetype": "text/x-python",
   "name": "python",
   "nbconvert_exporter": "python",
   "pygments_lexer": "ipython3",
   "version": "3.13.3"
  }
 },
 "nbformat": 4,
 "nbformat_minor": 5
}
