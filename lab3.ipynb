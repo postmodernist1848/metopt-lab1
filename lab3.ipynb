{
 "cells": [
  {
   "cell_type": "code",
   "execution_count": 3,
   "id": "ab402656",
   "metadata": {},
   "outputs": [
    {
     "name": "stdout",
     "output_type": "stream",
     "text": [
      "[3.72354715 1.56079786 1.43029107 0.94271179] 0.9742006385107012\n",
      "[2.0734408 2.9367085 1.9996651 1.09973  ] 3.712295749389168\n"
     ]
    }
   ],
   "source": [
    "import sgd\n",
    "import numpy as np\n",
    "\n",
    "quadratic = sgd.Polynomial(3)\n",
    "\n",
    "dataset_parameters = np.array([4, 3, 2, 1])  # y = 4 + 3x + 2x^2 + x^3\n",
    "\n",
    "dataset = [(np.array([x]), quadratic(dataset_parameters, np.array([x]))) for x in np.linspace(-1, 1, 500)]\n",
    "reg = sgd.L1Regularization(0)\n",
    "ef = sgd.ErrorFunc(quadratic, reg, dataset)\n",
    "res = sgd.sgd(quadratic, reg, dataset, epochs=100, batch_size=10, lr=0.01)\n",
    "print(res, ef(res))\n",
    "res2 = sgd.torch_sgd(dataset, degree=3, lr=0.01, epochs=100, batch_size=10)\n",
    "print(res2, ef(res2))"
   ]
  }
 ],
 "metadata": {
  "kernelspec": {
   "display_name": "Python 3",
   "language": "python",
   "name": "python3"
  },
  "language_info": {
   "codemirror_mode": {
    "name": "ipython",
    "version": 3
   },
   "file_extension": ".py",
   "mimetype": "text/x-python",
   "name": "python",
   "nbconvert_exporter": "python",
   "pygments_lexer": "ipython3",
   "version": "3.13.3"
  }
 },
 "nbformat": 4,
 "nbformat_minor": 5
}
