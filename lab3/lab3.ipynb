{
 "cells": [
  {
   "cell_type": "code",
   "execution_count": null,
   "id": "ab402656",
   "metadata": {},
   "outputs": [],
   "source": [
    "import sgd\n",
    "import numpy as np\n",
    "from lib import algorithms\n",
    "\n",
    "quadratic = sgd.Polynomial(3)\n",
    "\n",
    "dataset_parameters = np.array([4, 3, 2, 1])  # y = 4 + 3x + 2x^2 + x^3\n",
    "\n",
    "dataset = [(np.array([x]), quadratic(dataset_parameters, np.array([x]))) for x in np.linspace(-2, 2, 500)]\n",
    "\n",
    "\n",
    "reg = sgd.L1Regularization(0)\n",
    "ef = sgd.ErrorFunc(quadratic, reg, dataset)\n",
    "epochs = 100\n",
    "batch_size = 10\n",
    "lr_c = algorithms.lr_constant(0.01);\n",
    "momentum = 0.9\n",
    "\n",
    "res = sgd.sgd(quadratic, reg, dataset, epochs=epochs, batch_size=batch_size, lr=lr_c)\n",
    "print(res, ef(res))\n",
    "res_m = sgd.sgd(quadratic, reg, dataset, epochs=epochs, batch_size=batch_size, lr=lr_c, momentum=momentum)\n",
    "print(res_m, ef(res_m))\n",
    "res2 = sgd.torch_sgd(dataset, degree=3, epochs=epochs, batch_size=batch_size, lr=0.01, optimizer_type='SGD_Momentum', momentum=momentum)\n",
    "print(res2, ef(res2))"
   ]
  }
 ],
 "metadata": {
  "kernelspec": {
   "display_name": ".venv",
   "language": "python",
   "name": "python3"
  },
  "language_info": {
   "codemirror_mode": {
    "name": "ipython",
    "version": 3
   },
   "file_extension": ".py",
   "mimetype": "text/x-python",
   "name": "python",
   "nbconvert_exporter": "python",
   "pygments_lexer": "ipython3",
   "version": "3.13.2"
  }
 },
 "nbformat": 4,
 "nbformat_minor": 5
}
